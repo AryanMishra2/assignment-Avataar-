{
 "cells": [
  {
   "cell_type": "code",
   "execution_count": 13,
   "metadata": {},
   "outputs": [],
   "source": [
    "# Suppress Hugging Face cache warnings (Optional)\n",
    "import os\n",
    "os.environ[\"HF_HUB_DISABLE_SYMLINKS_WARNING\"] = \"1\"\n",
    "\n",
    "# Import necessary libraries\n",
    "import torch\n",
    "from transformers import pipeline, AutoModelForSemanticSegmentation, AutoImageProcessor\n",
    "from PIL import Image\n",
    "import cv2\n",
    "import matplotlib.pyplot as plt\n",
    "import numpy as np"
   ]
  },
  {
   "cell_type": "code",
   "execution_count": 14,
   "metadata": {},
   "outputs": [
    {
     "name": "stdout",
     "output_type": "stream",
     "text": [
      "PyTorch version: 2.4.1+cpu\n",
      "CUDA available: False\n"
     ]
    }
   ],
   "source": [
    "# Check PyTorch installation\n",
    "print(f\"PyTorch version: {torch.__version__}\")\n",
    "print(f\"CUDA available: {torch.cuda.is_available()}\")  # Should be False"
   ]
  },
  {
   "cell_type": "code",
   "execution_count": 15,
   "metadata": {},
   "outputs": [],
   "source": [
    "# Task 1: Object Segmentation\n",
    "def segment_object(image_path, class_name, output_path):\n",
    "    # Load image\n",
    "    image = Image.open(image_path).convert(\"RGB\")\n",
    "    \n",
    "    # Load the model and processor\n",
    "    model_dir = './segformer-b0-finetuned-ade-512-512'\n",
    "    \n",
    "    if not os.path.exists(model_dir):\n",
    "        raise FileNotFoundError(f\"Model directory '{model_dir}' does not exist.\")\n",
    "    \n",
    "    model = AutoModelForSemanticSegmentation.from_pretrained(model_dir, torch_dtype=torch.float32)\n",
    "    processor = AutoImageProcessor.from_pretrained(model_dir)\n",
    "    \n",
    "    segmenter = pipeline('image-segmentation', model=model, feature_extractor=processor, device=-1)\n",
    "\n",
    "    # Predict the segmentation\n",
    "    segments = segmenter(image)\n",
    "\n",
    "    # Debug: Print the segments\n",
    "    print(\"Segments:\", segments)\n",
    "    \n",
    "    # Check if the class name exists in the segmentation results\n",
    "    mask = None\n",
    "    for seg in segments:\n",
    "        print(f\"Label: {seg['label']}, Score: {seg['score']}\")  # Debug output\n",
    "        if seg['label'].lower() == class_name.lower():\n",
    "            mask = seg['mask']\n",
    "            break\n",
    "    \n",
    "    if mask is None:\n",
    "        raise ValueError(f\"Class '{class_name}' not found in the image.\")\n",
    "    \n",
    "    # Convert mask to a binary image\n",
    "    mask_img = Image.fromarray(np.uint8(mask) * 255)\n",
    "    mask_img = mask_img.convert(\"L\")  # Convert to grayscale\n",
    "\n",
    "    # Create a red color mask\n",
    "    red_mask = Image.new(\"RGBA\", image.size, (255, 0, 0, 0))\n",
    "    red_mask.paste((255, 0, 0, 128), mask=mask_img)\n",
    "    \n",
    "    # Composite image\n",
    "    image_with_mask = Image.alpha_composite(image.convert(\"RGBA\"), red_mask)\n",
    "\n",
    "    # Save the result\n",
    "    image_with_mask.save(output_path)\n",
    "    \n",
    "    print(f\"Segmented image saved to {output_path}\")\n",
    "    return output_path, segments  # Return the mask and segments for further processing\n"
   ]
  },
  {
   "cell_type": "code",
   "execution_count": 16,
   "metadata": {},
   "outputs": [],
   "source": [
    "# Task 2: Pose Editing\n",
    "def edit_pose(image_path, mask_img, azimuth, output_path):\n",
    "    # Load the segmented image and mask\n",
    "    image = Image.open(image_path).convert(\"RGBA\")\n",
    "    \n",
    "    # Convert the mask to a NumPy array\n",
    "    mask_array = np.array(mask_img)\n",
    "\n",
    "    # Create a blank RGBA image for the output\n",
    "    edited_image = Image.new(\"RGBA\", image.size)\n",
    "\n",
    "    # Convert the original image to an array for manipulation\n",
    "    cv_image = cv2.cvtColor(np.array(image), cv2.COLOR_RGBA2BGRA)\n",
    "\n",
    "    # Find the contours of the masked area\n",
    "    contours, _ = cv2.findContours(mask_array, cv2.RETR_EXTERNAL, cv2.CHAIN_APPROX_SIMPLE)\n",
    "\n",
    "    # Check if contours are found\n",
    "    if len(contours) > 0:\n",
    "        # Assume we take the first contour found (there should only be one for the chair)\n",
    "        largest_contour = max(contours, key=cv2.contourArea)\n",
    "        x, y, w, h = cv2.boundingRect(largest_contour)\n",
    "\n",
    "        # Create a mask for the ROI\n",
    "        roi_mask = np.zeros_like(mask_array)\n",
    "        cv2.drawContours(roi_mask, [largest_contour], -1, 255, thickness=cv2.FILLED)\n",
    "\n",
    "        # Extract the ROI using the mask\n",
    "        roi = cv_image[y:y + h, x:x + w][roi_mask[y:y + h, x:x + w] > 0]\n",
    "\n",
    "        # Calculate rotation matrix for pose editing\n",
    "        center = (w // 2, h // 2)\n",
    "        M = cv2.getRotationMatrix2D(center, azimuth, 1.0)\n",
    "        \n",
    "        # Rotate the ROI\n",
    "        rotated_roi = cv2.warpAffine(roi, M, (w, h), flags=cv2.INTER_LINEAR)\n",
    "\n",
    "        # Place the rotated ROI back into the original image\n",
    "        edited_image = Image.fromarray(cv2.cvtColor(cv_image, cv2.COLOR_BGRA2RGBA))\n",
    "        edited_image.paste(Image.fromarray(rotated_roi), (x, y), mask=Image.fromarray(roi_mask[y:y + h, x:x + w]))\n",
    "\n",
    "    # Save the edited image\n",
    "    edited_image.save(output_path)\n",
    "    print(f\"Pose-edited image saved to {output_path}\")\n"
   ]
  },
  {
   "cell_type": "code",
   "execution_count": 17,
   "metadata": {},
   "outputs": [
    {
     "name": "stdout",
     "output_type": "stream",
     "text": [
      "Segments: [{'score': None, 'label': 'wall', 'mask': <PIL.Image.Image image mode=L size=320x320 at 0x1EFB8CEF490>}, {'score': None, 'label': 'floor', 'mask': <PIL.Image.Image image mode=L size=320x320 at 0x1EFB7DA2B50>}, {'score': None, 'label': 'ceiling', 'mask': <PIL.Image.Image image mode=L size=320x320 at 0x1EFB8D708D0>}, {'score': None, 'label': 'windowpane', 'mask': <PIL.Image.Image image mode=L size=320x320 at 0x1EFB8D73010>}, {'score': None, 'label': 'table', 'mask': <PIL.Image.Image image mode=L size=320x320 at 0x1EFB8D71190>}, {'score': None, 'label': 'chair', 'mask': <PIL.Image.Image image mode=L size=320x320 at 0x1EFB8CCB550>}]\n",
      "Label: wall, Score: None\n",
      "Label: floor, Score: None\n",
      "Label: ceiling, Score: None\n",
      "Label: windowpane, Score: None\n",
      "Label: table, Score: None\n",
      "Label: chair, Score: None\n",
      "Segmented image saved to ./segmented_output.png\n"
     ]
    },
    {
     "data": {
      "image/png": "[encoded data removed]",
      "text/plain": [
       "<Figure size 640x480 with 1 Axes>"
      ]
     },
     "metadata": {},
     "output_type": "display_data"
    },
    {
     "name": "stdout",
     "output_type": "stream",
     "text": [
      "Pose-edited image saved to ./pose_edited_output.png\n"
     ]
    }
   ],
   "source": [
    "# Example usage of both tasks\n",
    "segmented_image_path, segments = segment_object(\n",
    "    image_path='./chair.jpg',\n",
    "    class_name='chair',\n",
    "    output_path='./segmented_output.png'\n",
    ")\n",
    "\n",
    "# Visualize the chair mask\n",
    "chair_mask = None\n",
    "for seg in segments:\n",
    "    if seg['label'].lower() == 'chair':\n",
    "        chair_mask = seg['mask']\n",
    "        break\n",
    "\n",
    "if chair_mask is not None:\n",
    "    plt.imshow(chair_mask, cmap='gray')\n",
    "    plt.title('Chair Mask')\n",
    "    plt.axis('off')\n",
    "    plt.show()\n",
    "\n",
    "# Perform pose editing\n",
    "edit_pose(\n",
    "    image_path=segmented_image_path,\n",
    "    mask_img=chair_mask,  # Use the correct mask\n",
    "    azimuth=72,           # Change this value for different rotations\n",
    "    output_path='./pose_edited_output.png'\n",
    ")\n"
   ]
  },
  {
   "cell_type": "markdown",
   "metadata": {},
   "source": []
  }
 ],
 "metadata": {
  "kernelspec": {
   "display_name": "Python 3",
   "language": "python",
   "name": "python3"
  },
  "language_info": {
   "codemirror_mode": {
    "name": "ipython",
    "version": 3
   },
   "file_extension": ".py",
   "mimetype": "text/x-python",
   "name": "python",
   "nbconvert_exporter": "python",
   "pygments_lexer": "ipython3",
   "version": "3.11.4"
  }
 },
 "nbformat": 4,
 "nbformat_minor": 2
}
